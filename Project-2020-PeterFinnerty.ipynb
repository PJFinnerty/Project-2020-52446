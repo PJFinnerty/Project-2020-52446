{
 "cells": [
  {
   "cell_type": "markdown",
   "metadata": {},
   "source": [
    "<br>\n",
    "\n",
    "# Fundamentals of Data Analysis\n",
    "\n",
    "## Project 2020 - Peter Finnerty\n",
    "\n",
    "***"
   ]
  },
  {
   "cell_type": "markdown",
   "metadata": {},
   "source": [
    "<br>\n",
    "\n",
    "## Instructions:\n",
    "\n",
    "<br>\n",
    "In this project you must perform and explain simple linear regression using Python\n",
    "on the powerproduction dataset available on Moodle. \n",
    "\n",
    "The goal is to accurately predict wind turbine power output from wind speed values using the data set as a basis.\n",
    "\n",
    "Your submission must be in the form of a git repository containing, at a minimum, the\n",
    "following items:\n",
    "\n",
    "1. Jupyter notebook that performs simple linear regression on the data set.\n",
    "\n",
    "\n",
    "2. In that notebook, an explanation of your regression and an analysis of its accuracy.\n",
    "\n",
    "\n",
    "3. Standard items in a git repository such as a README.\n",
    "\n",
    "To enhance your submission, you might consider comparing simple linear regression to\n",
    "other types of regression on this data set. Rest assured, all the above concepts will be\n",
    "explored in lecture videos and other materials in the coming semester.\n",
    "\n",
    "***"
   ]
  },
  {
   "cell_type": "markdown",
   "metadata": {},
   "source": [
    "<br>\n",
    "\n",
    "## 1. Overview\n",
    "\n",
    "### 1.1. Defining Linear Regression\n",
    "\n",
    "This project seeks to exemplify the use of simple linear regression on the Powerproduction dataset. In order to do this it is first necessary to provide an overview of Linear Regression. Furthermore, it is necessary to discuss how Linear Regression has applications in both Statistics and Machine Learning.\n",
    "\n",
    "Linear Regression developed out of the field of Statistics as a way to understand the relationsip between input and output variables. As Machine Learning is concerned with minimizing the error of a model or making the most accurate predictions possible, Linear Regression algorithms became utilised in both fields (MachineLearningMastery.com). \n",
    "\n",
    "Algebraic Simultaneous Equations as studied in second level education, suggest that there is a linear relationship between input variables (x) and a single output variable (y) and that y can be calculation from a combination of x variables (MachineLearningMastery.com). \n",
    "\n",
    "At second level, Linear Regression is studied at the most basic level in the equation of a line as seen below:"
   ]
  },
  {
   "cell_type": "markdown",
   "metadata": {},
   "source": [
    "<img src=\"https://i.pinimg.com/originals/d3/36/bd/d336bddce77d0769448561fde53b0372.jpg\" style=\"width: 450px;\">                                                                                                         "
   ]
  },
  {
   "cell_type": "markdown",
   "metadata": {},
   "source": [
    "This is a useful basis from which to expand one's knowledge of Linear Regression, beyond the application in Algebra to Data Analysis and more specifically, to Simple Linear Regression on a Dataset.\n",
    "\n",
    "In the above formula, *m* is called the angular coefficient and *c* is the intercept. When we look at a dataset, and investigate all the vectors in terms of fitting a straight line, we are searching the values of *m* and *c* that provide the most appropriate position of the line (finxter.com). \n",
    "\n",
    "Regression as a basic tool in statistics is the study of how a dependent variable changes as an independent variable changes. \n",
    "\n",
    "As a specific form of Regression, Simple Linear Regression deals with quantitative variables. More specifically, it is used to determine the strength of a relationship between two variables (such as rainfall and soil erosion) or, to determing the value of a dependent quantitative variable where a certain independent variable is known (scribbr.com).  "
   ]
  },
  {
   "cell_type": "markdown",
   "metadata": {},
   "source": [
    "<br>\n",
    "\n",
    "### 1.2. Basic Example of Simple Linear Regression Using Numpy's Polyfit Function\n",
    "\n",
    "Numpy has a built-in function to fit a straight line across a series of data points. The numpy.polyfit() function takes two arrays as input, x and y - these operate as the first and second parameters respectively. The third parameter specifies the degree of the polynomial function. For straight lines, the degree parameter is set at 1.\n",
    "\n",
    "The example below from finxter.com outlines simple linear regression using numpy.polyfit()."
   ]
  },
  {
   "cell_type": "code",
   "execution_count": 1,
   "metadata": {},
   "outputs": [
    {
     "data": {
      "image/png": "[encoded data removed]",
      "text/plain": [
       "<Figure size 432x288 with 1 Axes>"
      ]
     },
     "metadata": {
      "needs_background": "light"
     },
     "output_type": "display_data"
    }
   ],
   "source": [
    "import numpy as np\n",
    "from numpy import random  #it will be useful for generating some random noise (on purpose) in the data points that we want to fit\n",
    "import matplotlib.pyplot as plt  #for plotting the data\n",
    "#---LINEAR FIT----\n",
    "#generate the x array\n",
    "x = np.linspace(0,60,60) # generate an array of 60 equally space points\n",
    "#generate the y array exploiting the random.randint() function to introduce some random noise\n",
    "y = np.array([random.randint(i-2, i+2) for i in x]) #each element is a random number with value between +-2 the respective x axis value\n",
    "#Applying a linear fit with .polyfit()\n",
    "fit = np.polyfit(x,y,1)\n",
    "ang_coeff = fit[0]\n",
    "intercept = fit[1]\n",
    "fit_eq = ang_coeff*x + intercept  #obtaining the y axis values for the fitting function\n",
    "#Plotting the data\n",
    "fig = plt.figure()\n",
    "ax = fig.subplots()\n",
    "ax.plot(x, fit_eq,color = 'r', alpha = 0.5, label = 'Linear fit')\n",
    "ax.scatter(x,y,s = 5, color = 'b', label = 'Data points') #Original data points\n",
    "ax.set_title('Linear fit example')\n",
    "ax.legend()\n",
    "plt.show()"
   ]
  },
  {
   "cell_type": "markdown",
   "metadata": {},
   "source": [
    "#### reference: https://blog.finxter.com/np-polyfit/#:~:text=In%20Numpy%2C%20the%20function%20np.&text=The%20.-,polyfit()%20function%2C%20accepts%20three%20different%20input%20values%3A%20x%20%2C,degree%20of%20our%20polynomial%20function."
   ]
  },
  {
   "cell_type": "markdown",
   "metadata": {},
   "source": [
    "As seen in the above graph, a number of Numpy functions have been used in unison to first create a series of evenly distribution datapoints using np.linspace() , then randomly adding 'noise' to this data (creating random permutations to the data) using np.random.randint() and finally plugging the x and y arrays into a polyfit() function with the degree parameter set to 1.\n",
    "\n",
    "The result is a scatterplot of seemingy random data that shows a consistent trend increasing consitently in x and y values, whilst displaying noise. The polyfit() function has drawn the most appropriate straight line through this data. \n",
    "\n",
    "Although it is not clear, the polyfit() function has determined the 'cost' of the datapoints. This is where the distance of each y datapoint is measured respectively to the line and these distances are added up to a total. The 'cost' is a measure of the degree of inaccuracy that is permitted when attempting to draw a straight line amongst dispersed datapoints. \n",
    "\n",
    "The functiond determines the lowest cost in order to apply the most appropriate line between the datapoints. It is impossible to create a line that has a cost of 0, as the datapoints would need to be perfectly in line for this to occur, in which case there would be no need to carry out simple linear regression.\n",
    "\n",
    "In light of this, it is important to note that simple linear regression has most use in real world data, where it is difficult to intuitively determine the position of the most appropriate straight line using the eye alone."
   ]
  },
  {
   "cell_type": "markdown",
   "metadata": {},
   "source": [
    "### 1.3. Logistic Regression\n",
    "\n",
    "Logistic Regression differs from Simple Linear Regression in that it investigates the relationship between a dependent *binary* variable  and one or more independent variable (of many types). It is not confined to quantitative data: the binary dependent variable may be a \"yes\" or \"no\" responses in a survey for example. \n",
    "\n",
    "The independent variable may be any of the following types (statisticshowto.com):\n",
    "\n",
    "* Nominal Variable - classified as a categorical variable where data is not numerical and has no natural order, e.g. hair colour.\n",
    "\n",
    "\n",
    "* Ordinal Variable - also a categorical variable, except where there is a natural order, e.g. a list of survey responses ranging from \"Extremely Satisfied\" to \"Extremely Dissatisfied\".\n",
    "\n",
    "\n",
    "* Interval Variable - a numerical variable where each possible value are equally spaced, e.g. a list of temperature measurements in degrees Celcius and where 0 is a possible result.\n",
    "\n",
    "\n",
    "* Ratio Variable - a numerical variable where the inerval is equal but 0 is not a possible value, e.g. age or weight.\n",
    "\n",
    "An example use of Logistic Regression is determining whether calorie intake, ago, fat intake and time spent exercising influence the possibility of a heart attack (yes or no), where the latter binary response is determined from the independent variables. \n",
    "\n",
    "**This form of Regression will not be appropriate in examining the Powerproduction dataset.**"
   ]
  },
  {
   "cell_type": "markdown",
   "metadata": {},
   "source": [
    "### 1.4. Non-linear Regression\n",
    "\n",
    "#### What Differentiates Non-linear from Linear Regression\n",
    "\n",
    "Non-linear Regression relates two variables (x and y) in a curved relationship. Simple Linear Regression involves calculating the sum of the distance of each y datapoint to a fitted line of regression. As previously stated, this is known as the cost of the datapoints. \n",
    "\n",
    "Non-linear Regression also calculates the cost of the datapoints in respect to the y variables, however each measure of the distance for each y datapoint to the fitted line, is squared before the values are summed together. This is known as the Sum of the Squares (Investopedia). \n",
    "\n",
    "The image below outlines an example of Non-linear Regression:\n",
    "\n",
    "<img src=\"https://stats.idre.ucla.edu/wp-content/uploads/2016/02/alsmsasch13_1.gif\" style=\"width: 450px;\">\n",
    "\n",
    "*Image from UCLA Institute for Digital Research and Education*\n",
    "\n",
    "As such Non-linear Regression is a curved function of the X-variable. This is a more complicated process than Linear Regression as they require approximations or iterations and mathematical methods have been developed to make this as accurate as possible.  \n",
    "\n",
    "It is important to note that **Linear Regression models can in certain circumstances form curved lines**. \n",
    "\n",
    "Similarly, **Non-linear models can be manipulated to reflect a near-straight line**, in which case the model is termed *instrinsically linear* (Investopedia). \n",
    "\n",
    "#### Applications of Linear Regression\n",
    "\n"
   ]
  },
  {
   "cell_type": "code",
   "execution_count": null,
   "metadata": {},
   "outputs": [],
   "source": []
  }
 ],
 "metadata": {
  "kernelspec": {
   "display_name": "Python 3",
   "language": "python",
   "name": "python3"
  },
  "language_info": {
   "codemirror_mode": {
    "name": "ipython",
    "version": 3
   },
   "file_extension": ".py",
   "mimetype": "text/x-python",
   "name": "python",
   "nbconvert_exporter": "python",
   "pygments_lexer": "ipython3",
   "version": "3.8.3"
  }
 },
 "nbformat": 4,
 "nbformat_minor": 4
}
