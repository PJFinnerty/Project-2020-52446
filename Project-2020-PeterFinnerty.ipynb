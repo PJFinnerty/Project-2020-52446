{
 "cells": [
  {
   "cell_type": "markdown",
   "metadata": {},
   "source": [
    "<br>\n",
    "\n",
    "# Fundamentals of Data Analysis\n",
    "\n",
    "## Project 2020 - Peter Finnerty\n",
    "\n",
    "***"
   ]
  },
  {
   "cell_type": "markdown",
   "metadata": {},
   "source": [
    "<br>\n",
    "\n",
    "## Instructions:\n",
    "\n",
    "<br>\n",
    "In this project you must perform and explain simple linear regression using Python\n",
    "on the powerproduction dataset available on Moodle. \n",
    "\n",
    "The goal is to accurately predict wind turbine power output from wind speed values using the data set as a basis.\n",
    "\n",
    "Your submission must be in the form of a git repository containing, at a minimum, the\n",
    "following items:\n",
    "\n",
    "1. Jupyter notebook that performs simple linear regression on the data set.\n",
    "\n",
    "\n",
    "2. In that notebook, an explanation of your regression and an analysis of its accuracy.\n",
    "\n",
    "\n",
    "3. Standard items in a git repository such as a README.\n",
    "\n",
    "To enhance your submission, you might consider comparing simple linear regression to\n",
    "other types of regression on this data set. Rest assured, all the above concepts will be\n",
    "explored in lecture videos and other materials in the coming semester.\n",
    "\n",
    "***"
   ]
  },
  {
   "cell_type": "markdown",
   "metadata": {},
   "source": [
    "<br>\n",
    "\n",
    "## 1. Overview\n",
    "\n",
    "### 1.1. Defining Linear Regression\n",
    "\n",
    "This project seeks to exemplify the use of simple linear regression on the Powerproduction dataset. In order to do this it is first necessary to provide an overview of Linear Regression. Furthermore, it is necessary to discuss how Linear Regression has applications in both Statistics and Machine Learning.\n",
    "\n",
    "Linear Regression developed out of the field of Statistics as a way to understand the relationsip between input and output variables. As Machine Learning is concerned with minimizing the error of a model or making the most accurate predictions possible, Linear Regression algorithms became utilised in both fields (MachineLearningMastery.com). \n",
    "\n",
    "Algebraic Simultaneous Equations as studied in second level education, suggest that there is a linear relationship between input variables (x) and a single output variable (y) and that y can be calculation from a combination of x variables (MachineLearningMastery.com). \n",
    "\n",
    "At second level, Linear Regression is studied at the most basic level in the equation of a line as seen below:"
   ]
  },
  {
   "cell_type": "markdown",
   "metadata": {},
   "source": [
    "<img src=\"https://i.pinimg.com/originals/d3/36/bd/d336bddce77d0769448561fde53b0372.jpg\" style=\"width: 450px;\">                                                                                                         "
   ]
  },
  {
   "cell_type": "markdown",
   "metadata": {},
   "source": [
    "This is a useful basis from which to expand one's knowledge of Linear Regression, beyond the application in Algebra to Data Analysis and more specifically, to Simple Linear Regression on a Dataset."
   ]
  }
 ],
 "metadata": {
  "kernelspec": {
   "display_name": "Python 3",
   "language": "python",
   "name": "python3"
  },
  "language_info": {
   "codemirror_mode": {
    "name": "ipython",
    "version": 3
   },
   "file_extension": ".py",
   "mimetype": "text/x-python",
   "name": "python",
   "nbconvert_exporter": "python",
   "pygments_lexer": "ipython3",
   "version": "3.8.3"
  }
 },
 "nbformat": 4,
 "nbformat_minor": 4
}
