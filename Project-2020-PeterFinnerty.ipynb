{
 "cells": [
  {
   "cell_type": "markdown",
   "metadata": {},
   "source": [
    "<br>\n",
    "\n",
    "# Fundamentals of Data Analysis\n",
    "\n",
    "## Project 2020 - Peter Finnerty\n",
    "\n",
    "***"
   ]
  },
  {
   "cell_type": "markdown",
   "metadata": {},
   "source": [
    "<br>\n",
    "\n",
    "## Instructions:\n",
    "\n",
    "<br>\n",
    "In this project you must perform and explain simple linear regression using Python\n",
    "on the powerproduction dataset available on Moodle. \n",
    "\n",
    "The goal is to accurately predict wind turbine power output from wind speed values using the data set as a basis.\n",
    "\n",
    "Your submission must be in the form of a git repository containing, at a minimum, the\n",
    "following items:\n",
    "\n",
    "1. Jupyter notebook that performs simple linear regression on the data set.\n",
    "\n",
    "\n",
    "2. In that notebook, an explanation of your regression and an analysis of its accuracy.\n",
    "\n",
    "\n",
    "3. Standard items in a git repository such as a README.\n",
    "\n",
    "To enhance your submission, you might consider comparing simple linear regression to\n",
    "other types of regression on this data set. Rest assured, all the above concepts will be\n",
    "explored in lecture videos and other materials in the coming semester.\n",
    "\n",
    "***"
   ]
  },
  {
   "cell_type": "markdown",
   "metadata": {},
   "source": [
    "<br>\n",
    "\n",
    "## 1. Overview\n",
    "\n",
    "### 1.1. Defining Linear Regression\n",
    "\n",
    "This project seeks to exemplify the use of simple linear regression on the Powerproduction dataset. In order to do this it is first necessary to provide an overview of Linear Regression. Furthermore, it is necessary to discuss how Linear Regression has applications in both Statistics and Machine Learning.\n",
    "\n",
    "Linear Regression developed out of the field of Statistics as a way to understand the relationsip between input and output variables. As Machine Learning is concerned with minimizing the error of a model or making the most accurate predictions possible, Linear Regression algorithms became utilised in both fields (MachineLearningMastery.com). \n",
    "\n",
    "Algebraic Simultaneous Equations as studied in second level education, suggest that there is a linear relationship between input variables (x) and a single output variable (y) and that y can be calculation from a combination of x variables (MachineLearningMastery.com). \n",
    "\n",
    "At second level, Linear Regression is studied at the most basic level in the equation of a line as seen below:"
   ]
  },
  {
   "cell_type": "markdown",
   "metadata": {},
   "source": [
    "<img src=\"https://i.pinimg.com/originals/d3/36/bd/d336bddce77d0769448561fde53b0372.jpg\" style=\"width: 450px;\">                                                                                                         "
   ]
  },
  {
   "cell_type": "markdown",
   "metadata": {},
   "source": [
    "This is a useful basis from which to expand one's knowledge of Linear Regression, beyond the application in Algebra to Data Analysis and more specifically, to Simple Linear Regression on a Dataset.\n",
    "\n",
    "In the above formula, *m* is called the angular coefficient and *c* is the intercept. When we look at a dataset, and investigate all the vectors in terms of fitting a straight line, we are searching the values of *m* and *c* that provide the most appropriate position of the line (finxter.com). \n",
    "\n",
    "Regression as a basic tool in statistics is the study of how a dependent variable changes as an independent variable changes. \n",
    "\n",
    "As a specific form of Regression, Simple Linear Regression deals with quantitative variables. More specifically, it is used to determine the strength of a relationship between two variables (such as rainfall and soil erosion) or, to determing the value of a dependent quantitative variable where a certain independent variable is known (scribbr.com).  "
   ]
  },
  {
   "cell_type": "code",
   "execution_count": null,
   "metadata": {},
   "outputs": [],
   "source": []
  },
  {
   "cell_type": "code",
   "execution_count": null,
   "metadata": {},
   "outputs": [],
   "source": [
    "power_hist = sns.distplot(power, bins=30)\n",
    "plt.xlabel(\"Power\")\n",
    "power_hist"
   ]
  },
  {
   "cell_type": "code",
   "execution_count": null,
   "metadata": {},
   "outputs": [],
   "source": [
    "hist_speed = sns.distplot(speed, bins=30)\n",
    "plt.xlabel(\"Speed\")\n",
    "\n",
    "Plot_1"
   ]
  },
  {
   "cell_type": "code",
   "execution_count": null,
   "metadata": {},
   "outputs": [],
   "source": [
    "scatter = sns.scatterplot(x=power, y=speed)"
   ]
  },
  {
   "cell_type": "markdown",
   "metadata": {},
   "source": [
    "<br>\n",
    "\n",
    "***\n",
    "\n",
    "### 1.2. Glossary of Terms\n",
    "\n",
    "#### 1.2.1. Coefficients <span style=\"color: blue;\">(*coef*)</span>\n",
    "\n",
    "In the regression of a dataset, the coefficients describe the statistical relationship between the independent variables and the dependent variables.\n",
    "\n",
    "The sign of the coefficent can tell you the direction of the relatioship between the variables. A positive sign identifies that as the independent variable increases, the mean of the dpendent variable also increases, whislt a negative sign suggests a decrease.\n",
    "\n",
    "The value of the coefficient describes how the mean of the dependent variable changes in relation to the independent variable.\n",
    "\n",
    "Whilst carrying out regression on an indepedent variable and a dependent variable, it is important to hold the other variables 'constant'. That is to say it is imperative to study the effect of the independent variable on each dependent variable in isolation from the others (statisticsbyjim.com).\n",
    "\n",
    "The coefficients of the output are estimates of the actual data population, therefore, it is important to ensure that the model for regression follows best practice for that particular type of regression."
   ]
  },
  {
   "cell_type": "code",
   "execution_count": null,
   "metadata": {},
   "outputs": [],
   "source": [
    "speed.reshape(-1, 1)\n",
    "speed.shape"
   ]
  },
  {
   "cell_type": "code",
   "execution_count": null,
   "metadata": {},
   "outputs": [],
   "source": [
    "model = LinearRegression()\n",
    "model.fit(speed, power)"
   ]
  },
  {
   "cell_type": "markdown",
   "metadata": {},
   "source": [
    "***\n",
    "\n",
    "#### 1.2.2. Standard Error of the Coefficient  <span style=\"color: blue;\">(*SE coef.* or *Std. Err.*)</span> and t-value  <span style=\"color: blue;\">(*t*)</span>\n",
    "\n",
    "The Standard Error measures the accuracy of the unknown coefficient of the model. It is a floating point number that is always positive. The smaller the Std. Err. the more accurate the estimate is (Minitab.com). \n",
    "\n",
    "Dividing the coefficient by the standard error will produce a t-value or t-statistic. As a lower Std. Err. indicates lower error and the t-value calculates how many times the error divides into the coefficent itself, a larger t-value indicates greater accuracy. \n",
    "\n",
    "As a result, the t-value is essentially a measure of the error in relation to the coefficient.\n",
    "\n",
    "***"
   ]
  },
  {
   "cell_type": "markdown",
   "metadata": {},
   "source": [
    "#### 1.2.3. P-Values  <span style=\"color: blue;\">(*p*)</span>, the Null Hypothesis <span style=\"color: blue;\">(*H0*)</span> and the Significance Level  <span style=\"color: blue;\">(*α* or *alpha level*)</span>   \n",
    "\n",
    "P-values work together with Coefficients to indicate to the statistical value produced in the Regression process. Specifically, the P-values *of* the coefficients identify whether the relationships observed in a sample exist throughout the population (StatisticsByJim). \n",
    "\n",
    "The p-value is a number between 0 and 1.\n",
    "\n",
    "For each independent variable, there is a possibility that the variable has no correlation to the dependent variable, in which case there is not enough proof to display a relationship. This lack of a relationship is known as the Null Hypothesis and the P-values can test for this.\n",
    "\n",
    "If it is first necessary to reject the Null Hypothesis in order to determine that there is a significant enough effect between the variables in your sample in order to conclude that the same effect is present in the wider population. The significance level is the probability of dismissing the Null Hypothesis when it in fact is evident.\n",
    "\n",
    "The Significane Level, is a pre-determined threshold. It is normally set to a value of 0.05 (5%). However, the researcher must identify an appropriate threshold of Significance Level, from which to compare to the p-value.\n",
    "\n",
    "If the P-value is less than the significance level, the Null Hypothesis can be sufficiently rejected. \n",
    "\n",
    "Contrasly, if the P-value is higher than the significance level, the Null Hypothesis cannot be rejected and there is not enough evidence to infer a relationship between the independent and dependent variable.\n",
    "\n",
    "As the coefficients, P-values and the Significance level are determined for each variable in isolation, this can determine what variables should be included in the Regression analysis. \n"
   ]
  },
  {
   "cell_type": "markdown",
   "metadata": {},
   "source": [
    "***"
   ]
  },
  {
   "cell_type": "markdown",
   "metadata": {},
   "source": [
    "<br>\n",
    "\n",
    "***\n",
    "\n",
    "### 1.3. Basic Example of Simple Linear Regression Using Numpy's Polyfit Function\n",
    "\n",
    "Numpy has a built-in function to fit a straight line across a series of data points. The numpy.polyfit() function takes two arrays as input, x and y - these operate as the first and second parameters respectively. The third parameter specifies the degree of the polynomial function. For straight lines, the degree parameter is set at 1.\n",
    "\n",
    "The example below from finxter.com outlines simple linear regression using numpy.polyfit()."
   ]
  },
  {
   "cell_type": "code",
   "execution_count": null,
   "metadata": {},
   "outputs": [],
   "source": [
    "import numpy as np\n",
    "from numpy import random  #it will be useful for generating some random noise (on purpose) in the data points that we want to fit\n",
    "import matplotlib.pyplot as plt  #for plotting the data\n",
    "#---LINEAR FIT----\n",
    "#generate the x array\n",
    "x = np.linspace(0,60,60) # generate an array of 60 equally space points\n",
    "#generate the y array exploiting the random.randint() function to introduce some random noise\n",
    "y = np.array([random.randint(i-2, i+2) for i in x]) #each element is a random number with value between +-2 the respective x axis value\n",
    "#Applying a linear fit with .polyfit()\n",
    "fit = np.polyfit(x,y,1)\n",
    "ang_coeff = fit[0]\n",
    "intercept = fit[1]\n",
    "fit_eq = ang_coeff*x + intercept  #obtaining the y axis values for the fitting function\n",
    "#Plotting the data\n",
    "fig = plt.figure()\n",
    "ax = fig.subplots()\n",
    "ax.plot(x, fit_eq,color = 'r', alpha = 0.5, label = 'Linear fit')\n",
    "ax.scatter(x,y,s = 5, color = 'b', label = 'Data points') #Original data points\n",
    "ax.set_title('Linear fit example')\n",
    "ax.legend()\n",
    "plt.show()"
   ]
  },
  {
   "cell_type": "markdown",
   "metadata": {},
   "source": [
    "#### reference: https://blog.finxter.com/np-polyfit/#:~:text=In%20Numpy%2C%20the%20function%20np.&text=The%20.-,polyfit()%20function%2C%20accepts%20three%20different%20input%20values%3A%20x%20%2C,degree%20of%20our%20polynomial%20function."
   ]
  },
  {
   "cell_type": "markdown",
   "metadata": {},
   "source": [
    "As seen in the above graph, a number of Numpy functions have been used in unison to first create a series of evenly distribution datapoints using np.linspace() , then randomly adding 'noise' to this data (creating random permutations to the data) using np.random.randint() and finally plugging the x and y arrays into a polyfit() function with the degree parameter set to 1.\n",
    "\n",
    "The result is a scatterplot of seemingy random data that shows a consistent trend increasing consitently in x and y values, whilst displaying noise. The polyfit() function has drawn the most appropriate straight line through this data. \n",
    "\n",
    "Although it is not clear, the polyfit() function has determined the 'cost' of the datapoints. This is where the distance of each y datapoint is measured respectively to the line and these distances are added up to a total. The 'cost' is a measure of the degree of inaccuracy that is permitted when attempting to draw a straight line amongst dispersed datapoints. \n",
    "\n",
    "The functiond determines the lowest cost in order to apply the most appropriate line between the datapoints. It is impossible to create a line that has a cost of 0, as the datapoints would need to be perfectly in line for this to occur, in which case there would be no need to carry out simple linear regression.\n",
    "\n",
    "In light of this, it is important to note that simple linear regression has most use in real world data, where it is difficult to intuitively determine the position of the most appropriate straight line using the eye alone."
   ]
  },
  {
   "cell_type": "markdown",
   "metadata": {},
   "source": [
    "<br>\n",
    "\n",
    "***\n",
    "\n",
    "### 1.4. Logistic Regression\n",
    "\n",
    "Logistic Regression differs from Simple Linear Regression in that it investigates the relationship between a dependent *binary* variable  and one or more independent variable (of many types). It is not confined to quantitative data: the binary dependent variable may be a \"yes\" or \"no\" responses in a survey for example. \n",
    "\n",
    "The independent variable may be any of the following types (statisticshowto.com):\n",
    "\n",
    "* Nominal Variable - classified as a categorical variable where data is not numerical and has no natural order, e.g. hair colour.\n",
    "\n",
    "\n",
    "* Ordinal Variable - also a categorical variable, except where there is a natural order, e.g. a list of survey responses ranging from \"Extremely Satisfied\" to \"Extremely Dissatisfied\".\n",
    "\n",
    "\n",
    "* Interval Variable - a numerical variable where each possible value are equally spaced, e.g. a list of temperature measurements in degrees Celcius and where 0 is a possible result.\n",
    "\n",
    "\n",
    "* Ratio Variable - a numerical variable where the inerval is equal but 0 is not a possible value, e.g. age or weight.\n",
    "\n",
    "An example use of Logistic Regression is determining whether calorie intake, ago, fat intake and time spent exercising influence the possibility of a heart attack (yes or no), where the latter binary response is determined from the independent variables. \n",
    "\n",
    "**This form of Regression will not be appropriate in examining the Powerproduction dataset.**"
   ]
  },
  {
   "cell_type": "markdown",
   "metadata": {},
   "source": [
    "<br>\n",
    "\n",
    "***\n",
    "\n",
    "### 1.5. Non-linear Regression\n",
    "\n",
    "#### What Differentiates Non-linear from Linear Regression\n",
    "\n",
    "Non-linear Regression relates two variables (x and y) in a curved relationship. Simple Linear Regression involves calculating the sum of the distance of each y datapoint to a fitted line of regression. As previously stated, this is known as the cost of the datapoints. \n",
    "\n",
    "Non-linear Regression also calculates the cost of the datapoints in respect to the y variables, however each measure of the distance for each y datapoint to the fitted line, is squared before the values are summed together. This is known as the Sum of the Squares (Investopedia). \n",
    "\n",
    "The image below outlines an example of Non-linear Regression:\n",
    "\n",
    "<img src=\"https://stats.idre.ucla.edu/wp-content/uploads/2016/02/alsmsasch13_1.gif\" style=\"width: 450px;\">\n",
    "\n",
    "*Image from UCLA Institute for Digital Research and Education*\n",
    "\n",
    "As such Non-linear Regression is a curved function of the X-variable. This is a more complicated process than Linear Regression as they require approximations or iterations and mathematical methods have been developed to make this as accurate as possible.  \n",
    "\n",
    "It is important to note that **Linear Regression models can in certain circumstances form curved lines**. \n",
    "\n",
    "Similarly, **Non-linear models can be manipulated to reflect a near-straight line**, in which case the model is termed *instrinsically linear* (Investopedia). \n",
    "\n",
    "#### Applications of Linear Regression\n",
    "\n",
    "##### Population Growth\n",
    "\n",
    "A bivariate plot displaying population growth against time. However, this is a non-linear theory in that it does not produce a straight line. It would produce a curved line. "
   ]
  },
  {
   "cell_type": "markdown",
   "metadata": {},
   "source": [
    "***\n",
    "\n",
    "#### Basic Example of Non-linear Regression Using Numpy's polyfit()\n",
    "\n",
    "Once again, we will use Numpy's polufit() method to generate a plot of population create using Non-linear Regression. This example is taken from Scipy-Cookbook.com."
   ]
  },
  {
   "cell_type": "code",
   "execution_count": null,
   "metadata": {},
   "outputs": [],
   "source": [
    "import numpy as np\n",
    "\n",
    "%matplotlib inline\n",
    "import matplotlib.pyplot as plt\n",
    "\n",
    "from matplotlib import rcParams\n",
    "rcParams['figure.figsize'] = (10, 6)\n",
    "rcParams['legend.fontsize'] = 16\n",
    "rcParams['axes.labelsize'] = 16\n",
    "r = np.linspace(0, 5, 100)\n",
    "\n",
    "linear = r**2\n",
    "\n",
    "huber = r**2\n",
    "huber[huber > 1] = 2 * r[huber > 1] - 1\n",
    "\n",
    "soft_l1 = 2 * (np.sqrt(1 + r**2) - 1)\n",
    "\n",
    "cauchy = np.log1p(r**2)\n",
    "\n",
    "arctan = np.arctan(r**2)\n",
    "\n",
    "plt.plot(r, linear, label='linear')\n",
    "plt.plot(r, huber, label='huber')\n",
    "plt.plot(r, soft_l1, label='soft_l1')\n",
    "plt.plot(r, cauchy, label='cauchy')\n",
    "plt.plot(r, arctan, label='arctan')\n",
    "plt.xlabel(\"$r$\")\n",
    "plt.ylabel(r\"$\\rho(r^2)$\")\n",
    "plt.legend(loc='upper left');"
   ]
  },
  {
   "cell_type": "markdown",
   "metadata": {},
   "source": [
    "<br>\n",
    "\n",
    "***\n",
    "\n",
    "### 1.6. Attempting Simple Linear Regression on Powerproduction Dataset"
   ]
  },
  {
   "cell_type": "markdown",
   "metadata": {},
   "source": [
    "We will not attempt to carry out Simple Linear Regression on the Powerproduction Dataset using Numpy's polyfit() method. This is necessary to understand whether Simple Linear Regression is appropriate for this data.\n",
    "\n",
    "At a later point, we will create our own version of the polyfit() method in order to carry out regression without Numpy.\n",
    "\n",
    "Below, the Powerproduction dataset has been turned into a Pandas DataFrame and the two variables plotted on a scatterplot.\n",
    "\n",
    "Following this, a straight line is plotted."
   ]
  },
  {
   "cell_type": "code",
   "execution_count": null,
   "metadata": {},
   "outputs": [],
   "source": [
    "import pandas as pd\n",
    "import seaborn as sns\n",
    "\n",
    "production = pd.read_csv(\"powerproduction.txt\")\n",
    "\n",
    "power = production[\"power\"]\n",
    "\n",
    "speed = production[\"speed\"]\n"
   ]
  },
  {
   "cell_type": "code",
   "execution_count": null,
   "metadata": {},
   "outputs": [],
   "source": [
    "Plot_1 = plt.plot(power, speed, '.')\n",
    "plt.xlabel(\"Power\")\n",
    "plt.ylabel(\"Speed\")\n",
    "\n",
    "Plot_1"
   ]
  },
  {
   "cell_type": "markdown",
   "metadata": {},
   "source": [
    "Examining the above graph, a curve is noticed in the data as Speed and Power increase. There is a strong concentration of vectors in the bottom left: 0-8 for Speed and 0-10 for Power. Furthermore, there is a concentration in the top right: 17-35 for Speed and 90-110 for Power. Infact it appears from simply looking at the plot that the majority of the vectors of the dataset are located in these two zones.\n",
    "\n",
    "The dispersion of datapoints will be further explored to examine the relationship. This relationship could be explained by a particular phenomenon that occurs when producing power from wind resources. \n",
    "\n",
    "For now, the plot is enough to assume that simple linear regression may not be appropriate for this dataset.\n",
    "\n",
    "Nevertheless we will carry out Simple Linear Regression on this dataset."
   ]
  },
  {
   "cell_type": "code",
   "execution_count": null,
   "metadata": {},
   "outputs": [],
   "source": [
    "Plot_2 = plt.plot(power, speed, '.')\n",
    "plt.xlabel(\"Power\")\n",
    "plt.ylabel(\"Speed\")\n",
    "\n",
    "coeffs = np.polyfit(power, speed, 1)\n",
    "\n",
    "plt.plot(power, coeffs[0] * power + coeffs[1], '-')\n",
    "\n",
    "Plot_2\n"
   ]
  },
  {
   "cell_type": "markdown",
   "metadata": {},
   "source": [
    "Considering that Simple Linear Regression produces a line that does not fit well, it is evident that we must turn to Non-linear Regression, i.e. fitting a curved line, in order to fit the most appropriate line to the dataset."
   ]
  },
  {
   "cell_type": "markdown",
   "metadata": {},
   "source": [
    "<br>\n",
    "\n",
    "***\n",
    "\n",
    "### 1.7. Example of Non-linear Regression on Sample Dataset\n",
    "\n",
    "#### heart_rate.txt: Study of Constant Exertion of Time(sec) vs BPM\n",
    "\n",
    "#### Reference for dataset analysis: https://github.com/APMonitor/learn_python/blob/master/HW04.ipynb\n",
    "\n",
    "#### Reference for dataset analysis: https://www.youtube.com/watch?v=4vryPwLtjIY\n",
    "\n",
    "\n"
   ]
  },
  {
   "cell_type": "code",
   "execution_count": null,
   "metadata": {},
   "outputs": [],
   "source": [
    "x = pd.read_csv(\"https://apmonitor.com/che263/uploads/Main/heart_rate.txt\")\n",
    "x"
   ]
  },
  {
   "cell_type": "code",
   "execution_count": null,
   "metadata": {},
   "outputs": [],
   "source": [
    "def bpm(t, c0, c1, c2, c3):\n",
    "    return c0+c1*t-c2*np.exp(-c3*t)"
   ]
  },
  {
   "cell_type": "code",
   "execution_count": null,
   "metadata": {},
   "outputs": [],
   "source": [
    "g = [150, 0.01, 100, 0.01]\n",
    "\n",
    "n = len(x['Time (sec)'])\n",
    "y = np.empty(n)\n",
    "for i in range(n):\n",
    "    y[i] = bpm(x['Time (sec)'][i], g[0], g[1], g[2], g[3])\n",
    "    \n",
    "\n",
    "plt.plot(x['Time (sec)'], x['Heart Rate (BPM)'])\n",
    "plt.plot(x['Time (sec)'], y, 'r.')"
   ]
  },
  {
   "cell_type": "markdown",
   "metadata": {},
   "source": [
    "#### Fit Using Curve Fit"
   ]
  },
  {
   "cell_type": "code",
   "execution_count": null,
   "metadata": {},
   "outputs": [],
   "source": [
    "from scipy.optimize import curve_fit\n",
    "\n",
    "t = x['Time (sec)'].values\n",
    "hr = x['Heart Rate (BPM)'].values\n",
    "\n",
    "# BPM = Function Name, t = object to predict BPM, hr = measured values,\n",
    "# g = guess values\n",
    "c, cov = curve_fit(bpm, t, hr, g)\n",
    "print(c)"
   ]
  },
  {
   "cell_type": "code",
   "execution_count": null,
   "metadata": {},
   "outputs": [],
   "source": [
    "\n",
    "n = len(x['Time (sec)'])\n",
    "y = np.empty(n)\n",
    "for i in range(n):\n",
    "    y[i] = bpm(x['Time (sec)'][i], c[0], c[1], c[2], c[3])\n",
    "    \n",
    "\n",
    "plt.plot(x['Time (sec)'], x['Heart Rate (BPM)'])\n",
    "plt.plot(x['Time (sec)'], y, 'r.')"
   ]
  },
  {
   "cell_type": "code",
   "execution_count": null,
   "metadata": {},
   "outputs": [],
   "source": [
    "from sklearn.metrics import r2_score\n",
    "print('R^2: ', r2_score(y, hr))"
   ]
  },
  {
   "cell_type": "markdown",
   "metadata": {},
   "source": [
    "<br>\n",
    "\n",
    "***\n",
    "\n",
    "### 1.8. What Does Curve Fitting Require?\n",
    "\n",
    "#### The Basis Function\n",
    "\n",
    "Curve fitting first requires creating the form of the *Mapping Function*, this is known as the *Basis Function*. \n",
    "\n",
    "To begin with, we do not yet know the form of the Mapping function that maps examples of inputs and outputs, but we can approximate it by creating the Basis function (Machine Learning Mastery).\n",
    "\n",
    "Once the Basis Function has been approximated, the parameters to the function can be identified that result in the least amount of error. \n",
    "\n",
    "By comparing the output from the Basis Function to the observed output, we can calculate the error.\n",
    "\n",
    "When there are two variables involved in a dataset, as there is with the Powerproduction Dataset, the independent variable will form the input of the Mapping function, whilst the dependent variable will form the output.\n",
    "\n",
    "\n",
    "\n"
   ]
  },
  {
   "cell_type": "code",
   "execution_count": null,
   "metadata": {},
   "outputs": [],
   "source": [
    "# define the basis function\n",
    "def basis(x, a, b, c):\n",
    "    return a * np.power(x, 7) + b * x**2 + c\n",
    "\n",
    "# choose the input and output variables\n",
    "x, y = speed, power\n",
    "# curve fit\n",
    "exponents, _ = curve_fit(basis, x, y)\n",
    "# summarize the parameter values\n",
    "a, b, c = exponents\n",
    "\n",
    "# plot inputs and outputs\n",
    "plt.scatter(x, y)\n",
    "\n",
    "# Use np.arange to inputs from smallest vector to largest\n",
    "x_array = np.arange(min(x), max(x), 1)\n",
    "# calculate the output for the range\n",
    "y_array = basis(x_array, a, b, c)\n",
    "# create a line plot for the mapping function\n",
    "plt.plot(x_array, y_array, '--', color='red')\n",
    "plt.xlabel(\"Speed\")\n",
    "plt.ylabel(\"Power\")\n",
    "\n",
    "plt.show()"
   ]
  },
  {
   "cell_type": "code",
   "execution_count": null,
   "metadata": {},
   "outputs": [],
   "source": [
    "x = pd.read_csv(\"https://apmonitor.com/che263/uploads/Main/heart_rate.txt\")"
   ]
  },
  {
   "cell_type": "code",
   "execution_count": null,
   "metadata": {},
   "outputs": [],
   "source": [
    "from scipy.optimize import curve_fit\n",
    "\n",
    "t = x['Time (sec)'].values\n",
    "hr = x['Heart Rate (BPM)'].values\n",
    "\n",
    "# BPM = Function Name, t = object to predict BPM, hr = measured values,\n",
    "# g = guess values\n",
    "c, cov = curve_fit(bpm, t, hr, g)\n",
    "print(c)"
   ]
  },
  {
   "cell_type": "code",
   "execution_count": null,
   "metadata": {},
   "outputs": [],
   "source": [
    "\n",
    "n = len(x['Time (sec)'])\n",
    "y = np.empty(n)\n",
    "for i in range(n):\n",
    "    y[i] = bpm(x['Time (sec)'][i], c[0], c[1], c[2], c[3])\n",
    "    \n",
    "\n",
    "plt.plot(x['Time (sec)'], x['Heart Rate (BPM)'])\n",
    "plt.plot(x['Time (sec)'], y, 'r.')"
   ]
  },
  {
   "cell_type": "code",
   "execution_count": null,
   "metadata": {},
   "outputs": [],
   "source": []
  },
  {
   "cell_type": "markdown",
   "metadata": {},
   "source": [
    "<br>\n",
    "\n",
    "***\n",
    "\n",
    "### 1.9. Example of Curve Fitting on Smoking Dataset\n",
    "\n",
    "#### Carrying ut Non-linear Regression on 3 Arrays of Data"
   ]
  },
  {
   "cell_type": "code",
   "execution_count": null,
   "metadata": {},
   "outputs": [],
   "source": [
    "# define the basis function\n",
    "def basis(x, a, b, c):\n",
    "    return a * np.power(x, 7) + b * x**2 + c\n",
    "\n",
    "# choose the input and output variables\n",
    "x, y = speed, power\n",
    "# curve fit\n",
    "exponents, _ = curve_fit(basis, x, y)\n",
    "# summarize the parameter values\n",
    "a, b, c = exponents\n",
    "\n",
    "# plot inputs and outputs\n",
    "plt.scatter(x, y)\n",
    "\n",
    "# Use np.arange to inputs from smallest vector to largest\n",
    "x_array = np.arange(min(x), max(x), 1)\n",
    "# calculate the output for the range\n",
    "y_array = basis(x_array, a, b, c)\n",
    "# create a line plot for the mapping function\n",
    "plt.plot(x_array, y_array, '--', color='red')\n",
    "plt.xlabel(\"Speed\")\n",
    "plt.ylabel(\"Power\")\n",
    "\n",
    "plt.show()"
   ]
  },
  {
   "cell_type": "code",
   "execution_count": null,
   "metadata": {},
   "outputs": [],
   "source": []
  },
  {
   "cell_type": "code",
   "execution_count": null,
   "metadata": {},
   "outputs": [],
   "source": []
  },
  {
   "cell_type": "markdown",
   "metadata": {},
   "source": [
    "### 2. Carrying Out Simple Linear Regression Using Sklearn"
   ]
  },
  {
   "cell_type": "code",
   "execution_count": 135,
   "metadata": {},
   "outputs": [],
   "source": [
    "import numpy as np\n",
    "%matplotlib inline\n",
    "import matplotlib.pyplot as plt\n",
    "from matplotlib import pyplot as plt\n",
    "import pandas as pd\n",
    "import seaborn as sns\n",
    "from scipy.optimize import curve_fit\n",
    "\n",
    "from sklearn.linear_model import LinearRegression\n",
    "from sklearn import datasets, linear_model\n",
    "from sklearn.model_selection import train_test_split\n",
    "from sklearn.preprocessing import PolynomialFeatures\n",
    "from sklearn.linear_model import LassoCV\n",
    "from sklearn.pipeline import make_pipeline\n",
    "from sklearn.metrics import mean_absolute_error"
   ]
  },
  {
   "cell_type": "code",
   "execution_count": 136,
   "metadata": {},
   "outputs": [
    {
     "name": "stdout",
     "output_type": "stream",
     "text": [
      "(375, 1) (375,)\n",
      "(125, 1) (125,)\n",
      "[10.34187937 48.33946996 56.98236455 95.58826698 99.72965396]\n"
     ]
    },
    {
     "data": {
      "text/plain": [
       "Text(0, 0.5, 'Predicted Power (Dependent Variable)')"
      ]
     },
     "execution_count": 136,
     "metadata": {},
     "output_type": "execute_result"
    },
    {
     "data": {
      "image/png": "[encoded data removed]",
      "text/plain": [
       "<Figure size 432x288 with 1 Axes>"
      ]
     },
     "metadata": {
      "needs_background": "light"
     },
     "output_type": "display_data"
    }
   ],
   "source": [
    "df = pd.DataFrame(pd.read_csv(\"powerproduction.txt\") )\n",
    "\n",
    "# Reshape both columns to be 2D and name as x/y\n",
    "x = df[\"speed\"]\n",
    "x = x.values.reshape(500, 1)\n",
    "\n",
    "y = df[\"power\"]\n",
    "y = y.values\n",
    "\n",
    "#Split the dataset into Training set and Test Set, set test_size to\n",
    "# 2.5: train is 75% the size of the ful dataset and test is 25% the \n",
    "# size of full dataset\n",
    "x_train, x_test, y_train, y_test = train_test_split(x, y, \n",
    "                                    test_size= 0.25, random_state=0)\n",
    "\n",
    "# Create model variable, set to LinearRegression() function\n",
    "# Use .fit() to adust weight of x and y data\n",
    "model = LinearRegression()\n",
    "model.fit(x, y)\n",
    "\n",
    "# Print the 2 train and 2 test arrays to screen\n",
    "print(x_train.shape, y_train.shape)\n",
    "print(x_test.shape, y_test.shape)\n",
    "\n",
    "# Set model function\n",
    "# Train x and y training arrays\n",
    "model = LinearRegression().fit(x_train, y_train)\n",
    "\n",
    "# Use the trained model to predict tests\n",
    "y_predict = model.predict(x_test)\n",
    "\n",
    "# Print first 5 rows of x_test predicted data\n",
    "print(y_predict[0:5])\n",
    "\n",
    "# Create a scatterplot graphing predictions against true data\n",
    "plt.scatter(y_predict, y_test)\n",
    "#plt.scatter(x, y)\n",
    "#plt.plot(x_test, prediction1, 'r')\n",
    "plt.xlabel(\"Predicted Speed (Independent Variable)\")\n",
    "plt.ylabel(\"Predicted Power (Dependent Variable)\")"
   ]
  },
  {
   "cell_type": "code",
   "execution_count": 146,
   "metadata": {},
   "outputs": [
    {
     "data": {
      "text/plain": [
       "Text(0, 0.5, 'Modelled Power (Dependent Variable)')"
      ]
     },
     "execution_count": 146,
     "metadata": {},
     "output_type": "execute_result"
    },
    {
     "data": {
      "image/png": "[encoded data removed]",
      "text/plain": [
       "<Figure size 432x288 with 1 Axes>"
      ]
     },
     "metadata": {
      "needs_background": "light"
     },
     "output_type": "display_data"
    }
   ],
   "source": [
    "plt.scatter(x_train, y_train, label=\"Training Data\", color='b', \n",
    "            alpha=.7)\n",
    "plt.scatter(x_test, y_test, label=\"Test Data\", color='r', alpha=.7)\n",
    "plt.legend()\n",
    "plt.title(\"Powerproduction: Train and Teat Data\")\n",
    "plt.xlabel(\"Modelled Speed (Independent Variable)\")\n",
    "plt.ylabel(\"Modelled Power (Dependent Variable)\")"
   ]
  },
  {
   "cell_type": "code",
   "execution_count": 138,
   "metadata": {},
   "outputs": [
    {
     "data": {
      "text/plain": [
       "14.777550003831136"
      ]
     },
     "execution_count": 138,
     "metadata": {},
     "output_type": "execute_result"
    }
   ],
   "source": [
    "MAE = mean_absolute_error(y_test, y_predict)\n",
    "MAE"
   ]
  },
  {
   "cell_type": "code",
   "execution_count": null,
   "metadata": {},
   "outputs": [],
   "source": []
  },
  {
   "cell_type": "code",
   "execution_count": null,
   "metadata": {},
   "outputs": [],
   "source": []
  },
  {
   "cell_type": "code",
   "execution_count": null,
   "metadata": {},
   "outputs": [],
   "source": []
  },
  {
   "cell_type": "code",
   "execution_count": null,
   "metadata": {},
   "outputs": [],
   "source": []
  },
  {
   "cell_type": "code",
   "execution_count": null,
   "metadata": {},
   "outputs": [],
   "source": []
  },
  {
   "cell_type": "code",
   "execution_count": 128,
   "metadata": {},
   "outputs": [],
   "source": [
    "df = pd.DataFrame(pd.read_csv(\"powerproduction.txt\") )"
   ]
  },
  {
   "cell_type": "code",
   "execution_count": 114,
   "metadata": {},
   "outputs": [
    {
     "data": {
      "text/plain": [
       "LinearRegression()"
      ]
     },
     "execution_count": 114,
     "metadata": {},
     "output_type": "execute_result"
    }
   ],
   "source": [
    "# Reshape both columns to be 2D and name as x/y\n",
    "x = df[\"power\"]\n",
    "x = x.values.reshape(500, 1)\n",
    "\n",
    "y = df[\"speed\"]\n",
    "y = y.values\n",
    "\n",
    "# Create model variable, set to LinearRegression() function\n",
    "# Use .fit() to adust weight of x and y data\n",
    "model = LinearRegression()\n",
    "model.fit(x, y)"
   ]
  },
  {
   "cell_type": "code",
   "execution_count": 115,
   "metadata": {
    "scrolled": true
   },
   "outputs": [
    {
     "name": "stdout",
     "output_type": "stream",
     "text": [
      "(375, 1) (375,)\n",
      "(125, 1) (125,)\n"
     ]
    }
   ],
   "source": [
    "#Split the dataset into Training set and Test Set, set test_size to\n",
    "# 2.5: train is 75% the size of the ful dataset and test is 25% the \n",
    "# size of full dataset\n",
    "x_train, x_test, y_train, y_test = train_test_split(x, y, \n",
    "                                    test_size= 0.25, random_state=0)\n",
    "\n",
    "# Print the 2 train and 2 test arrays to screen\n",
    "print(x_train.shape, y_train.shape)\n",
    "print(x_test.shape, y_test.shape)"
   ]
  },
  {
   "cell_type": "code",
   "execution_count": 116,
   "metadata": {},
   "outputs": [],
   "source": [
    "# Set model function\n",
    "# Train x and y training arrays\n",
    "model = LinearRegression().fit(x_train, y_train)"
   ]
  },
  {
   "cell_type": "code",
   "execution_count": 117,
   "metadata": {},
   "outputs": [
    {
     "data": {
      "text/plain": [
       "array([1.])"
      ]
     },
     "execution_count": 117,
     "metadata": {},
     "output_type": "execute_result"
    }
   ],
   "source": [
    "model.coef_"
   ]
  },
  {
   "cell_type": "code",
   "execution_count": 118,
   "metadata": {},
   "outputs": [
    {
     "data": {
      "text/plain": [
       "0.0"
      ]
     },
     "execution_count": 118,
     "metadata": {},
     "output_type": "execute_result"
    }
   ],
   "source": [
    "model.intercept_"
   ]
  },
  {
   "cell_type": "code",
   "execution_count": 119,
   "metadata": {},
   "outputs": [
    {
     "name": "stdout",
     "output_type": "stream",
     "text": [
      "[ 4.905 12.713 14.489 22.422 23.273]\n"
     ]
    }
   ],
   "source": [
    "# Use the trained model to predict tests\n",
    "prediction1 = model.predict(x_test)\n",
    "\n",
    "# Print first 5 rows of x_test predicted data\n",
    "print(prediction1[0:5])"
   ]
  },
  {
   "cell_type": "code",
   "execution_count": 120,
   "metadata": {},
   "outputs": [
    {
     "data": {
      "text/plain": [
       "array([1.])"
      ]
     },
     "execution_count": 120,
     "metadata": {},
     "output_type": "execute_result"
    }
   ],
   "source": [
    "model.coef_"
   ]
  },
  {
   "cell_type": "code",
   "execution_count": null,
   "metadata": {},
   "outputs": [],
   "source": []
  },
  {
   "cell_type": "code",
   "execution_count": 121,
   "metadata": {},
   "outputs": [
    {
     "name": "stdout",
     "output_type": "stream",
     "text": [
      "x_train:  \n",
      "\n",
      "[[12.187]\n",
      " [ 3.078]\n",
      " [20.145]]\n",
      "x_test:  \n",
      "\n",
      "[[ 4.905]\n",
      " [12.713]\n",
      " [14.489]]\n",
      "y_train:  \n",
      "\n",
      "[12.187  3.078 20.145]\n",
      "y_test:  \n",
      "\n",
      "[ 4.905 12.713 14.489]\n"
     ]
    }
   ],
   "source": [
    "print(\"x_train: \", \"\\n\")\n",
    "print(x_train[:3])\n",
    "\n",
    "print(\"x_test: \", \"\\n\")\n",
    "print(x_test[:3])\n",
    "\n",
    "print(\"y_train: \", \"\\n\")\n",
    "print(y_train[:3])\n",
    "\n",
    "print(\"y_test: \", \"\\n\")\n",
    "print(y_test[:3])"
   ]
  },
  {
   "cell_type": "code",
   "execution_count": 122,
   "metadata": {},
   "outputs": [
    {
     "data": {
      "text/plain": [
       "LinearRegression()"
      ]
     },
     "execution_count": 122,
     "metadata": {},
     "output_type": "execute_result"
    }
   ],
   "source": [
    "model = LinearRegression(fit_intercept=True)\n",
    "model.fit(x, y)"
   ]
  },
  {
   "cell_type": "code",
   "execution_count": 123,
   "metadata": {},
   "outputs": [
    {
     "data": {
      "text/plain": [
       "(375, 1)"
      ]
     },
     "execution_count": 123,
     "metadata": {},
     "output_type": "execute_result"
    }
   ],
   "source": [
    "x_train.shape"
   ]
  },
  {
   "cell_type": "code",
   "execution_count": 124,
   "metadata": {},
   "outputs": [
    {
     "data": {
      "text/plain": [
       "(375,)"
      ]
     },
     "execution_count": 124,
     "metadata": {},
     "output_type": "execute_result"
    }
   ],
   "source": [
    "y_train.shape"
   ]
  },
  {
   "cell_type": "code",
   "execution_count": 125,
   "metadata": {},
   "outputs": [
    {
     "data": {
      "text/plain": [
       "(125,)"
      ]
     },
     "execution_count": 125,
     "metadata": {},
     "output_type": "execute_result"
    }
   ],
   "source": [
    "prediction1.shape"
   ]
  },
  {
   "cell_type": "code",
   "execution_count": 126,
   "metadata": {},
   "outputs": [
    {
     "data": {
      "text/plain": [
       "Text(0, 0.5, 'Predictions')"
      ]
     },
     "execution_count": 126,
     "metadata": {},
     "output_type": "execute_result"
    },
    {
     "data": {
      "image/png": "[encoded data removed]",
      "text/plain": [
       "<Figure size 432x288 with 1 Axes>"
      ]
     },
     "metadata": {
      "needs_background": "light"
     },
     "output_type": "display_data"
    }
   ],
   "source": [
    "# Create a scatterplot graphing predictions against true data\n",
    "plt.scatter(prediction1, y_test)\n",
    "#plt.scatter(x, y)\n",
    "#plt.plot(x_test, prediction1, 'r')\n",
    "plt.xlabel(\"True Values\")\n",
    "plt.ylabel(\"Predictions\")"
   ]
  },
  {
   "cell_type": "code",
   "execution_count": 39,
   "metadata": {},
   "outputs": [
    {
     "name": "stdout",
     "output_type": "stream",
     "text": [
      "0.7480928869036025\n"
     ]
    }
   ],
   "source": [
    "print(model.score(x_test, y_test))"
   ]
  },
  {
   "cell_type": "code",
   "execution_count": null,
   "metadata": {},
   "outputs": [],
   "source": []
  },
  {
   "cell_type": "code",
   "execution_count": null,
   "metadata": {},
   "outputs": [],
   "source": []
  }
 ],
 "metadata": {
  "kernelspec": {
   "display_name": "Python 3",
   "language": "python",
   "name": "python3"
  },
  "language_info": {
   "codemirror_mode": {
    "name": "ipython",
    "version": 3
   },
   "file_extension": ".py",
   "mimetype": "text/x-python",
   "name": "python",
   "nbconvert_exporter": "python",
   "pygments_lexer": "ipython3",
   "version": "3.8.3"
  }
 },
 "nbformat": 4,
 "nbformat_minor": 4
}
